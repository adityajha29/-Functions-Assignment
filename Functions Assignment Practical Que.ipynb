{
 "cells": [
  {
   "cell_type": "code",
   "execution_count": null,
   "id": "06cd80e8-dc51-4395-a102-384d84768a41",
   "metadata": {},
   "outputs": [],
   "source": [
    "#  Write a Python function that takes a list of numbers as input and returns the sum of all even numbers in list\n",
    "\n",
    "def sum_of_even_numbers(numbers):\n",
    "    even_numbers = [num for num in numbers if num % 2 == 0]\n",
    "    return sum(even_numbers)\n",
    "\n",
    "numbers = [5, 10, 18, 21, 8, 9, 26]\n",
    "result = sum_of_even_numbers(numbers)\n",
    "print(result)"
   ]
  },
  {
   "cell_type": "code",
   "execution_count": null,
   "id": "e848eb2f-a511-4132-a64f-80a603fdff4a",
   "metadata": {},
   "outputs": [],
   "source": [
    "# Create a Python function that accepts a string and returns the reverse of that string\n",
    "\n",
    "def reverse_string(s):\n",
    "    reversed_str = \"\"\n",
    "    for char in s:\n",
    "        reversed_str = char + reversed_str\n",
    "    return reversed_str\n",
    "\n",
    "input_string = \"Hello Ashish \"\n",
    "reversed_string = reverse_string(input_string)\n",
    "print(reversed_string) "
   ]
  },
  {
   "cell_type": "code",
   "execution_count": null,
   "id": "22d188b7-a8f7-4454-b812-d79f20be9ff9",
   "metadata": {},
   "outputs": [],
   "source": [
    "#  Implement a Python function that takes a list of integers and returns a new list containing the squares of each mumber.\n",
    "\n",
    "def square_numbers(numbers):\n",
    "    return [num ** 2 for num in numbers]\n",
    "\n",
    "input_list = [2, 4, 6, 8, 10]\n",
    "squared_list = square_numbers(input_list)\n",
    "print(squared_list)"
   ]
  },
  {
   "cell_type": "code",
   "execution_count": null,
   "id": "c9f814c9-e1fb-4f79-ae70-744cb7bc89f0",
   "metadata": {},
   "outputs": [],
   "source": [
    "#  Write a Python function that checks if a given number is prime or not from 1 to 200\n",
    "\n",
    "def is_prime(n):\n",
    "\n",
    "    if n <= 1:\n",
    "        return False\n",
    "    if n <= 3:\n",
    "        return True\n",
    "    if n % 2 == 0 or n % 3 == 0:\n",
    "        return False\n",
    "    \n",
    "    i = 5\n",
    "    while i * i <= n:\n",
    "        if n % i == 0 or n % (i + 2) == 0:\n",
    "            return False\n",
    "        i += 6\n",
    "    \n",
    "    return True\n",
    "numbers_to_check = range(1, 201) \n",
    "primes = [num for num in numbers_to_check if is_prime(num)]\n",
    "\n",
    "print(primes)"
   ]
  },
  {
   "cell_type": "code",
   "execution_count": null,
   "id": "2d75871c-b04c-443d-b784-4a064e5202cf",
   "metadata": {},
   "outputs": [],
   "source": [
    "#  Create an iterator class in Python that generates the Fibonacci sequence up to a specified number of terms\n",
    "\n",
    "class FibIterator:\n",
    "    def __init__(self, n):\n",
    "        self.n = n  \n",
    "        self.a, self.b = 0, 1  \n",
    "        self.count = 0  \n",
    "    \n",
    "    def __iter__(self):\n",
    "        return self  \n",
    "    \n",
    "    def __next__(self):\n",
    "        if self.count >= self.n:\n",
    "            raise StopIteration  \n",
    "        \n",
    "       \n",
    "        fib_number = self.a\n",
    "        self.a, self.b = self.b, self.a + self.b\n",
    "        self.count += 1\n",
    "        return fib_number\n",
    "\n",
    "fibonacci_sequence = FibIterator(10)  \n",
    "for number in fibonacci_sequence:\n",
    "    print(number)\n"
   ]
  },
  {
   "cell_type": "code",
   "execution_count": null,
   "id": "d164f269-0f19-4034-a681-6abd60bb5ee5",
   "metadata": {},
   "outputs": [],
   "source": [
    "# Write a generator function in Python that yields the powers of 2 up to a given exponent\n",
    "\n",
    "def power_of_two(exponent):\n",
    "    for i in range(exponent + 1):\n",
    "        yield 2 ** i\n",
    "\n",
    "\n",
    "for power in powers_of_two(5):\n",
    "    print(power)"
   ]
  },
  {
   "cell_type": "code",
   "execution_count": null,
   "id": "b97cc9dd-db97-4eb9-82a9-5012670be77c",
   "metadata": {},
   "outputs": [],
   "source": [
    "# Implement a generator function that reads a file line by line and yields each line as a string\n",
    "\n",
    "def read_lines(file_path):\n",
    "    \n",
    "    try:\n",
    "        with open(file_path, 'r') as file:\n",
    "            for line in file:\n",
    "                yield line\n",
    "    except FileNotFoundError:\n",
    "        print(f\"Error: The file at {file_path} was not found.\")\n",
    "    except IOError:\n",
    "        print(f\"Error: An I/O error occurred while reading the file at {file_path}.\")\n",
    "\n",
    "file_path = 'example.txt'  \n",
    "for line in read_lines(file_path):\n",
    "    print(line, end='')"
   ]
  },
  {
   "cell_type": "code",
   "execution_count": null,
   "id": "7c918272-8261-426d-900f-e77804f0c8db",
   "metadata": {},
   "outputs": [],
   "source": [
    "#  Use a lambda function in Python to sort a list of tuples based on the second element of each tuple\n",
    "\n",
    "data = [(2, 3), (3, 1), (4, 2), (5, 6)]\n",
    "\n",
    "sorted_data = sorted(data, key=lambda x: x[1])\n",
    "\n",
    "print(sorted_data)"
   ]
  },
  {
   "cell_type": "code",
   "execution_count": null,
   "id": "874e86e6-5622-4df1-9bbf-0a74353787e1",
   "metadata": {},
   "outputs": [],
   "source": [
    "# Write a Python program that uses `map()` to convert a list of temperatures from Celsius to Fahrenheit\n",
    "\n",
    "def celsius_to_fahrenheit(celsius):\n",
    " \n",
    "  return (celsius * 9/5) + 32\n",
    "\n",
    "temperatures_celsius = [10, 20, 30]\n",
    "temperatures_fahrenheit = list(map(lambda x: (celsius_to_fahrenheit(x)), temperatures_celsius))\n",
    "print(\"Temperatures in Fahrenheit:\", temperatures_fahrenheit)"
   ]
  },
  {
   "cell_type": "code",
   "execution_count": null,
   "id": "2977b9c3-99fe-4855-ab58-7044f2241c10",
   "metadata": {},
   "outputs": [],
   "source": [
    "#  Create a Python program that uses `filter()` to remove all the vowels from a given string\n",
    "\n",
    "def is_not_vowel(char):\n",
    "   \n",
    "    return char.lower() not in 'aeiou'\n",
    "\n",
    "def remove_vowels(input_string):\n",
    "    \n",
    "    \n",
    "    filtered_chars = filter(is_not_vowel, input_string)\n",
    "    \n",
    "    return ''.join(filtered_chars)\n",
    "\n",
    "\n",
    "input_string = \"Hey, How are you!\"\n",
    "result = remove_vowels(input_string)\n",
    "print(result)"
   ]
  },
  {
   "cell_type": "code",
   "execution_count": null,
   "id": "6ebfc45a-929c-433b-a4ce-bc1da7411716",
   "metadata": {},
   "outputs": [],
   "source": [
    "# Imagine an accounting routine used in a book shop. It works on a list with sublists, which look like this: \n",
    "\n",
    "#Order Number\tBook Title and Author\tQuantity\tPrice per Item\n",
    "#34587\tLearning Python, Mark Lutz\t4\t40.95\n",
    "#98762\tProgramming Python, Mark Lutz\t5\t56.80\n",
    "#77226\tHead First Python, Paul Barry\t3\t32.95\n",
    "#88112\tEinführung in Python3, Bernd Klein\t3\t24.99\n",
    "\n",
    "\n",
    "#Write a Python program, which returns a list with 2-tuples. Each tuple consists of a the order number and the product of the price per items and the quantity. The product should be increased by 10,- € if the value of the order is less than 100,00 €. \n",
    "#Write a Python program using lambda and map\n",
    "\n",
    "def calculate_adjusted_total(order):\n",
    "    \n",
    "    order_number, book_title, quantity, price_per_item = order\n",
    "    total_price = quantity * price_per_item\n",
    "    if total_price < 100:\n",
    "        total_price += 10  \n",
    "    return (order_number, total_price)\n",
    "\n",
    "orders = [\n",
    "    [34587, 'Learning Python, Mark Lutz', 4, 40.95],\n",
    "    [98762, 'Programming Python, Mark Lutz', 5, 56.80],\n",
    "    [77226, 'Head First Python, Paul Barry', 3, 32.95],\n",
    "    [88112, 'Einführung in Python3, Bernd Klein', 3, 24.99]\n",
    "]\n",
    "\n",
    "adjusted_orders = list(map(lambda order: calculate_adjusted_total(order), orders))\n",
    "\n",
    "print(adjusted_orders)"
   ]
  }
 ],
 "metadata": {
  "kernelspec": {
   "display_name": "Python 3 (ipykernel)",
   "language": "python",
   "name": "python3"
  },
  "language_info": {
   "codemirror_mode": {
    "name": "ipython",
    "version": 3
   },
   "file_extension": ".py",
   "mimetype": "text/x-python",
   "name": "python",
   "nbconvert_exporter": "python",
   "pygments_lexer": "ipython3",
   "version": "3.10.8"
  }
 },
 "nbformat": 4,
 "nbformat_minor": 5
}
