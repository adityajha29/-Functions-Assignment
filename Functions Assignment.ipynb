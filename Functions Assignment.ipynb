{
 "cells": [
  {
   "cell_type": "code",
   "execution_count": null,
   "id": "741f3d2b-0b5c-4352-a216-8dd698faa3a5",
   "metadata": {},
   "outputs": [],
   "source": [
    "# What is the difference between a function and a method in python?\n",
    "\n",
    "Function\n",
    "A function is a block of code that exists independently not associated with any\n",
    "object or class\n",
    "It can be called from anywhere in a code\n",
    "Defined using def keyword\n",
    "\n",
    "Method\n",
    "A method is a function that is associated with a specific object or class\n",
    "It is defined within a class and operates on the data that is contained inside the class\n"
   ]
  },
  {
   "cell_type": "code",
   "execution_count": null,
   "id": "475cb2a0-3852-42f7-b45f-50130769aa3a",
   "metadata": {},
   "outputs": [],
   "source": [
    "# Explain the concept of function arguments and parameters in python\n",
    "\n",
    "An argument is a value that is passed to a function when it is called. It can be a\n",
    "value, object or variable passed to a function or method as input. They are written when calling the function\n",
    "\n",
    "#Example\n",
    "\n",
    "def sum(a,b):\n",
    "  print(a+b)\n",
    "  \n",
    "sum(1,2)"
   ]
  },
  {
   "cell_type": "code",
   "execution_count": null,
   "id": "70e1155e-8443-4661-b576-e850b10bd279",
   "metadata": {},
   "outputs": [],
   "source": [
    "# What are the different ways to define and call a function in Python?\n",
    "\n",
    "Standard Function Definition\n",
    "The most common way to define a function is the def keyword followed by\n",
    "the finction name, parameters and parantheses followed by colon\n",
    "\n",
    "Lambda function\n",
    "Lambda functions are small anonymous functions defined using lambda keyword \n",
    "They only contain a single function\n",
    "\n",
    "Direct Call\n",
    "The most straightforward to call a function \n",
    "\n",
    "Calling as method\n",
    "Functions defined within a class are called methods\n",
    "They are called using the object of the class\n",
    "\n"
   ]
  },
  {
   "cell_type": "code",
   "execution_count": null,
   "id": "2aaa9648-7fb2-4149-a8a3-21bf69d8f64d",
   "metadata": {},
   "outputs": [],
   "source": [
    "# What is the purpose of the `return` statement in a Python function?\n",
    "\n",
    "A return statement is used to end execution of the fucntion call and \n",
    "returns the result to the caller. The statements adter the return statement \n",
    "are not executed. If return statement is without any expresseion then special value\n",
    "none is returned."
   ]
  },
  {
   "cell_type": "code",
   "execution_count": null,
   "id": "77e23f42-b3d0-4868-8482-efe89aae669b",
   "metadata": {},
   "outputs": [],
   "source": [
    "# What are iterators in Python and how do they differ from iterables?\n",
    "\n",
    "An iterable is basically an object that any user can iterate over.\n",
    "An iterator is also an object that helps a user in iterating over another object"
   ]
  },
  {
   "cell_type": "code",
   "execution_count": null,
   "id": "5ef1fdb7-971b-4308-864d-394ca277b72b",
   "metadata": {},
   "outputs": [],
   "source": [
    "# Explain the concept of generators in Python and how they are defined.\n",
    "\n",
    "A generator in python is a function that returns an iterator using the yield keyword \n",
    "A generator function is defined like a normal function but whenever it needs to generate \n",
    "a value it does so by the yield keyword"
   ]
  },
  {
   "cell_type": "code",
   "execution_count": null,
   "id": "17eb36fc-a331-4c3e-91b7-27d004e57d25",
   "metadata": {},
   "outputs": [],
   "source": [
    "# What are the advantages of using generators over regular functions?\n",
    "\n",
    "Generators have many advantages over regular functions\n",
    "\n",
    "Memory effeciency\n",
    "Generators only evaluate and produce one output at a time instead of crating a sequence in memory\n",
    "before producing the result\n",
    "\n",
    "Lazy Loading\n",
    "Generators only load data when needed hence improving performance\n",
    "\n",
    "Infinite Sequence\n",
    "Generators can produce infinite sequences of values by pausing and resuming execution\n",
    "\n",
    "Simpler code\n",
    "Generators make the code readable and concise and eliminate the the need to manually manage iterations\n",
    "\n",
    "Faster code\n",
    "Generators can store all the values in advance"
   ]
  },
  {
   "cell_type": "code",
   "execution_count": null,
   "id": "75d9d365-a1ae-4efd-99ac-672237e6d5e1",
   "metadata": {},
   "outputs": [],
   "source": [
    "#  What is a lambda function in Python and when is it typically used?\n",
    "\n",
    "A lambda function is an anonymous function that can take any number of arguements but\n",
    "unlike normal function evaluates and returns only one function"
   ]
  },
  {
   "cell_type": "code",
   "execution_count": null,
   "id": "1c55d3bf-4c7b-4925-8ef1-f2ce46ed2bef",
   "metadata": {},
   "outputs": [],
   "source": [
    "# Explain the purpose and usage of the `map()` function in Python.\n",
    "\n",
    "Map function returns a map object which is an iterator of results after applying the \n",
    "given function to each item of a given iterable\n",
    "\n",
    "#Example\n",
    "\n",
    "def addition(n):\n",
    "    return n + n\n",
    "\n",
    "numbers = (1, 2, 3, 4)\n",
    "result = map(addition, numbers)"
   ]
  },
  {
   "cell_type": "code",
   "execution_count": null,
   "id": "84560d23-8232-4e8c-b990-b650e38c1b25",
   "metadata": {},
   "outputs": [],
   "source": [
    "# What is the difference between `map()`, `reduce()`, and `filter()` functions in Python?\n",
    "\n",
    "map():\n",
    "Applies a given function to each element of an iterable (e.g., list, tuple) and\n",
    "returns a new iterable containing the results\n",
    "\n",
    "filter():\n",
    "Filters elements from an iterable based on a given function that returns a\n",
    "boolean value (True or False)\n",
    "It creates a new iterable containing only the elements for which the function returns True\n",
    "\n",
    "reduce():\n",
    "Applies a given function cumulatively to the elements of an iterable, reducing them to a single value\n",
    "It requires importing from the functools module"
   ]
  }
 ],
 "metadata": {
  "kernelspec": {
   "display_name": "Python 3 (ipykernel)",
   "language": "python",
   "name": "python3"
  },
  "language_info": {
   "codemirror_mode": {
    "name": "ipython",
    "version": 3
   },
   "file_extension": ".py",
   "mimetype": "text/x-python",
   "name": "python",
   "nbconvert_exporter": "python",
   "pygments_lexer": "ipython3",
   "version": "3.10.8"
  }
 },
 "nbformat": 4,
 "nbformat_minor": 5
}
